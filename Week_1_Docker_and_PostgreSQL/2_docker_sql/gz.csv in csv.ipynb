{
 "cells": [
  {
   "cell_type": "code",
   "execution_count": 1,
   "id": "9e17b76b",
   "metadata": {},
   "outputs": [],
   "source": [
    "import pandas as pd"
   ]
  },
  {
   "cell_type": "code",
   "execution_count": 2,
   "id": "5f305a91",
   "metadata": {},
   "outputs": [],
   "source": [
    "file_path = r'D:\\DE-ZoomCamp\\week_1_basics_n_setup\\2_docker_sql\\Daten\\green_tripdata_2019-09.csv.gz'"
   ]
  },
  {
   "cell_type": "code",
   "execution_count": null,
   "id": "bfd07b51",
   "metadata": {},
   "outputs": [],
   "source": [
    "df = pd.read_csv(file_path, compression='gzip')"
   ]
  },
  {
   "cell_type": "code",
   "execution_count": null,
   "id": "7e5a121c",
   "metadata": {},
   "outputs": [],
   "source": [
    "df.to_csv(r'D:\\DE-ZoomCamp\\week_1_basics_n_setup\\2_docker_sql\\green_tripdata_2019-09.csv', index=False)"
   ]
  }
 ],
 "metadata": {
  "kernelspec": {
   "display_name": "Python 3 (ipykernel)",
   "language": "python",
   "name": "python3"
  },
  "language_info": {
   "codemirror_mode": {
    "name": "ipython",
    "version": 3
   },
   "file_extension": ".py",
   "mimetype": "text/x-python",
   "name": "python",
   "nbconvert_exporter": "python",
   "pygments_lexer": "ipython3",
   "version": "3.9.13"
  }
 },
 "nbformat": 4,
 "nbformat_minor": 5
}
