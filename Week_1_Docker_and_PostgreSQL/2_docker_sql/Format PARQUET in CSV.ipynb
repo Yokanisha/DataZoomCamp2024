{
 "cells": [
  {
   "cell_type": "code",
   "execution_count": 1,
   "id": "afd4add2",
   "metadata": {},
   "outputs": [],
   "source": [
    "import pandas as pd"
   ]
  },
  {
   "cell_type": "code",
   "execution_count": 3,
   "id": "bdb78264",
   "metadata": {},
   "outputs": [],
   "source": [
    "df = pd.read_parquet(r'D:\\DE-ZoomCamp\\week_1_basics_n_setup\\2_docker_sql\\Daten\\yellow_tripdata_2019-01.parquet')"
   ]
  },
  {
   "cell_type": "code",
   "execution_count": null,
   "id": "220bc2b8",
   "metadata": {},
   "outputs": [],
   "source": [
    "df.to_csv(r'D:\\DE-ZoomCamp\\week_1_basics_n_setup\\2_docker_sql\\yellow_tripdata_2019-01.csv', index=False)"
   ]
  },
  {
   "cell_type": "code",
   "execution_count": null,
   "id": "aac58141",
   "metadata": {},
   "outputs": [],
   "source": []
  }
 ],
 "metadata": {
  "kernelspec": {
   "display_name": "Python 3 (ipykernel)",
   "language": "python",
   "name": "python3"
  },
  "language_info": {
   "codemirror_mode": {
    "name": "ipython",
    "version": 3
   },
   "file_extension": ".py",
   "mimetype": "text/x-python",
   "name": "python",
   "nbconvert_exporter": "python",
   "pygments_lexer": "ipython3",
   "version": "3.9.13"
  }
 },
 "nbformat": 4,
 "nbformat_minor": 5
}
